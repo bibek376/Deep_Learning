{
 "cells": [
  {
   "cell_type": "code",
   "execution_count": 90,
   "metadata": {
    "id": "k1CiB7HPOUBJ"
   },
   "outputs": [],
   "source": [
    "import tensorflow.compat.v1 as tf\n",
    "tf.disable_v2_behavior() \n",
    "import numpy as np"
   ]
  },
  {
   "cell_type": "code",
   "execution_count": 123,
   "metadata": {
    "colab": {
     "base_uri": "https://localhost:8080/"
    },
    "id": "j2s0amlkPK5r",
    "outputId": "a17835b5-02ca-47e5-afe9-1c275ba59946"
   },
   "outputs": [
    {
     "name": "stdout",
     "output_type": "stream",
     "text": [
      "<tf.Variable 'Variable_58:0' shape=() dtype=int32_ref>\n"
     ]
    }
   ],
   "source": [
    "zero=tf.Variable(0)\n",
    "print(zero)"
   ]
  },
  {
   "cell_type": "code",
   "execution_count": 124,
   "metadata": {
    "colab": {
     "base_uri": "https://localhost:8080/"
    },
    "id": "ta7YNA-PPS-F",
    "outputId": "cbc8a48f-e8bf-49b3-cf1a-3ce625780145"
   },
   "outputs": [
    {
     "data": {
      "text/plain": [
       "<tf.Tensor 'Const_5:0' shape=() dtype=int32>"
      ]
     },
     "execution_count": 124,
     "metadata": {
      "tags": []
     },
     "output_type": "execute_result"
    }
   ],
   "source": [
    "one=tf.constant(1,tf.int32)\n",
    "one"
   ]
  },
  {
   "cell_type": "code",
   "execution_count": 125,
   "metadata": {
    "id": "85utM376PYxP"
   },
   "outputs": [],
   "source": [
    "add=tf.add(zero,one)"
   ]
  },
  {
   "cell_type": "code",
   "execution_count": 128,
   "metadata": {
    "id": "n09HpeKJPfGW"
   },
   "outputs": [],
   "source": [
    "update=tf.assign(zero,add)\n"
   ]
  },
  {
   "cell_type": "code",
   "execution_count": 129,
   "metadata": {
    "id": "hq4aqS-K0-9P"
   },
   "outputs": [],
   "source": [
    "#update=tf.assign(one,add)\n"
   ]
  },
  {
   "cell_type": "code",
   "execution_count": 130,
   "metadata": {
    "id": "pgnGgEGGPgqy"
   },
   "outputs": [],
   "source": [
    "init_g = tf.global_variables_initializer()\n",
    "init_l = tf.local_variables_initializer()"
   ]
  },
  {
   "cell_type": "code",
   "execution_count": 131,
   "metadata": {
    "id": "Pu6bZkeP1S0y"
   },
   "outputs": [],
   "source": [
    "sess=tf.Session()"
   ]
  },
  {
   "cell_type": "code",
   "execution_count": 132,
   "metadata": {
    "id": "BK1Wu33z1XvK"
   },
   "outputs": [],
   "source": [
    "sess.run(init_g)"
   ]
  },
  {
   "cell_type": "code",
   "execution_count": 134,
   "metadata": {
    "colab": {
     "base_uri": "https://localhost:8080/"
    },
    "id": "zd1cxYPz1d76",
    "outputId": "32ac49b3-e367-4c93-a3cb-15bd6d25f4d3"
   },
   "outputs": [
    {
     "name": "stdout",
     "output_type": "stream",
     "text": [
      "0\n"
     ]
    }
   ],
   "source": [
    "print(sess.run(zero))"
   ]
  },
  {
   "cell_type": "code",
   "execution_count": 135,
   "metadata": {
    "colab": {
     "base_uri": "https://localhost:8080/"
    },
    "id": "6CYlFunF1nTy",
    "outputId": "34af7d69-690f-417f-a55e-f953d0cce43e"
   },
   "outputs": [
    {
     "name": "stdout",
     "output_type": "stream",
     "text": [
      "1\n"
     ]
    }
   ],
   "source": [
    "print(sess.run(one))"
   ]
  },
  {
   "cell_type": "code",
   "execution_count": 136,
   "metadata": {
    "colab": {
     "base_uri": "https://localhost:8080/"
    },
    "id": "1dQEc6vZ1qyp",
    "outputId": "2df888fe-88fc-4636-b02d-64cb0c7d24b9"
   },
   "outputs": [
    {
     "name": "stdout",
     "output_type": "stream",
     "text": [
      "1\n"
     ]
    }
   ],
   "source": [
    "print(sess.run(add))"
   ]
  },
  {
   "cell_type": "code",
   "execution_count": 139,
   "metadata": {
    "colab": {
     "base_uri": "https://localhost:8080/"
    },
    "id": "t_G03vC52BW6",
    "outputId": "20ed8ee3-1cc5-4e79-b450-a51c9203dbcf"
   },
   "outputs": [
    {
     "name": "stdout",
     "output_type": "stream",
     "text": [
      "1\n",
      "2\n",
      "3\n",
      "4\n",
      "5\n",
      "6\n",
      "7\n",
      "8\n"
     ]
    }
   ],
   "source": [
    "for i in range(8):\n",
    "  sess.run(update)\n",
    "  print(sess.run(zero))"
   ]
  },
  {
   "cell_type": "code",
   "execution_count": 141,
   "metadata": {
    "id": "C6e6-XnYbOiU"
   },
   "outputs": [],
   "source": [
    "hello=tf.constant(\"hello\")\n",
    "world=tf.constant(\"world\")\n"
   ]
  },
  {
   "cell_type": "code",
   "execution_count": 142,
   "metadata": {
    "id": "4-YyMcd11M8m"
   },
   "outputs": [],
   "source": [
    "concate=tf.add(hello,world)"
   ]
  },
  {
   "cell_type": "code",
   "execution_count": 144,
   "metadata": {
    "colab": {
     "base_uri": "https://localhost:8080/"
    },
    "id": "xqtf1oBaPmyf",
    "outputId": "b432165c-2ff8-4053-cf91-e71af41ddf34"
   },
   "outputs": [
    {
     "name": "stdout",
     "output_type": "stream",
     "text": [
      "b'helloworld'\n"
     ]
    }
   ],
   "source": [
    "print(sess.run(concate))"
   ]
  },
  {
   "cell_type": "code",
   "execution_count": 145,
   "metadata": {
    "id": "7xgdMuQCWeo4"
   },
   "outputs": [],
   "source": [
    "x = tf.placeholder(dtype = tf.float32)\n",
    "y = tf.placeholder(dtype = tf.float32)\n",
    "\n",
    "g = x * y + tf.log(x + y) + x ** 2"
   ]
  },
  {
   "cell_type": "code",
   "execution_count": 146,
   "metadata": {
    "colab": {
     "base_uri": "https://localhost:8080/"
    },
    "id": "L0yykTRQWzuA",
    "outputId": "697d4f34-1fef-4766-ba59-1b604bc088e1"
   },
   "outputs": [
    {
     "name": "stdout",
     "output_type": "stream",
     "text": [
      "X: [ 1.  2.  3.  4.  5.  6.  7.  8.  9. 10.]\n",
      "Y: [ 1.  2.  3.  4.  5.  6.  7.  8.  9. 10.]\n",
      "Result: [  2.6931472   9.386294   19.79176    34.07944    52.302586   74.48491\n",
      " 100.63905   130.77258   164.89038   202.99573  ]\n"
     ]
    }
   ],
   "source": [
    "\n",
    "x_feed = np.linspace(1, 10, num=10)\n",
    "y_feed = np.linspace(1, 10, num=10)\n",
    "result = sess.run(g, feed_dict = {x: x_feed, y: y_feed})\n",
    "  \n",
    "  \n",
    "print(\"X: \" + str(x_feed))\n",
    "print(\"Y: \" + str(y_feed))\n",
    "print(\"Result: \" + str(result))\n"
   ]
  },
  {
   "cell_type": "code",
   "execution_count": 154,
   "metadata": {
    "id": "D2in4hcgZsIh"
   },
   "outputs": [],
   "source": [
    "W= tf.Variable(3.5, dtype = tf.float32)\n",
    "b= tf.Variable(-2.5, dtype = tf.float32)\n",
    "x = tf.placeholder(dtype = tf.float32)\n",
    "linear=W*x+b"
   ]
  },
  {
   "cell_type": "code",
   "execution_count": 156,
   "metadata": {
    "id": "RuwPeJKb5QRW"
   },
   "outputs": [],
   "source": [
    "init_g = tf.global_variables_initializer()\n",
    "init_l = tf.local_variables_initializer()"
   ]
  },
  {
   "cell_type": "code",
   "execution_count": 169,
   "metadata": {
    "colab": {
     "base_uri": "https://localhost:8080/"
    },
    "id": "u8v-qYFI4VdX",
    "outputId": "9a435785-7b96-4a07-c282-522bb34a6f39"
   },
   "outputs": [
    {
     "name": "stdout",
     "output_type": "stream",
     "text": [
      "[[ 1.   4.5  8. ]\n",
      " [11.5 15.  18.5]]\n"
     ]
    }
   ],
   "source": [
    "with tf.Session() as sess:\n",
    "  sess.run(init_g)\n",
    "  x_feed = np.array([[1,2,3],[4,5,6]])\n",
    "  #x_feed = np.linspace(1, 10, num=10)\n",
    "  result = sess.run(linear, feed_dict = {x: x_feed})\n",
    "  print(result)\n",
    "  "
   ]
  }
 ],
 "metadata": {
  "colab": {
   "name": "tensor flow1",
   "provenance": []
  },
  "kernelspec": {
   "display_name": "Python 3 (ipykernel)",
   "language": "python",
   "name": "python3"
  },
  "language_info": {
   "codemirror_mode": {
    "name": "ipython",
    "version": 3
   },
   "file_extension": ".py",
   "mimetype": "text/x-python",
   "name": "python",
   "nbconvert_exporter": "python",
   "pygments_lexer": "ipython3",
   "version": "3.8.8"
  }
 },
 "nbformat": 4,
 "nbformat_minor": 1
}
