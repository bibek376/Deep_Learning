{
 "cells": [
  {
   "cell_type": "code",
   "execution_count": 90,
   "metadata": {
    "id": "k1CiB7HPOUBJ"
   },
   "outputs": [],
   "source": [
    "import tensorflow.compat.v1 as tf\n",
    "tf.disable_v2_behavior() \n",
    "import numpy as np"
   ]
  },
  {
   "cell_type": "code",
   "execution_count": 21,
   "metadata": {
    "id": "j2s0amlkPK5r"
   },
   "outputs": [],
   "source": [
    "a=tf.constant(2.0)"
   ]
  },
  {
   "cell_type": "code",
   "execution_count": 22,
   "metadata": {
    "id": "ta7YNA-PPS-F"
   },
   "outputs": [],
   "source": [
    "b=tf.constant(2,tf.int32)"
   ]
  },
  {
   "cell_type": "code",
   "execution_count": 23,
   "metadata": {
    "colab": {
     "base_uri": "https://localhost:8080/"
    },
    "id": "85utM376PYxP",
    "outputId": "30af1251-8248-4f98-f8af-f80c932c36a2"
   },
   "outputs": [
    {
     "data": {
      "text/plain": [
       "<tf.Tensor 'Const:0' shape=() dtype=float32>"
      ]
     },
     "execution_count": 23,
     "metadata": {
      "tags": []
     },
     "output_type": "execute_result"
    }
   ],
   "source": [
    "a"
   ]
  },
  {
   "cell_type": "code",
   "execution_count": 24,
   "metadata": {
    "colab": {
     "base_uri": "https://localhost:8080/"
    },
    "id": "n09HpeKJPfGW",
    "outputId": "3780da97-f94f-4c6d-b77f-c804f5c67444"
   },
   "outputs": [
    {
     "name": "stdout",
     "output_type": "stream",
     "text": [
      "Tensor(\"Const:0\", shape=(), dtype=float32)\n"
     ]
    }
   ],
   "source": [
    "print (a)\n"
   ]
  },
  {
   "cell_type": "code",
   "execution_count": 25,
   "metadata": {
    "colab": {
     "base_uri": "https://localhost:8080/"
    },
    "id": "pgnGgEGGPgqy",
    "outputId": "c3fff907-8477-4d26-d4c9-671afe90f3ef"
   },
   "outputs": [
    {
     "data": {
      "text/plain": [
       "<tf.Tensor 'Const_1:0' shape=() dtype=int32>"
      ]
     },
     "execution_count": 25,
     "metadata": {
      "tags": []
     },
     "output_type": "execute_result"
    }
   ],
   "source": [
    "b"
   ]
  },
  {
   "cell_type": "code",
   "execution_count": 113,
   "metadata": {
    "colab": {
     "base_uri": "https://localhost:8080/"
    },
    "id": "C6e6-XnYbOiU",
    "outputId": "78418fdd-d840-4f8e-fa31-a9740180f02c"
   },
   "outputs": [
    {
     "name": "stdout",
     "output_type": "stream",
     "text": [
      "[2. 3.]\n",
      "[2. 3.]\n",
      "[7. 9.]\n",
      "[ 9. 12.]\n",
      "[ 0. -1.]\n"
     ]
    }
   ],
   "source": [
    "\n",
    "q = tf.Variable([2.0, 3.0])\n",
    "# Create b based on the value of a\n",
    "w = tf.Variable(q)\n",
    "\n",
    "p=q.assign([7,9])\n",
    "r=q.assign_add([2,3])\n",
    "g=q.assign_sub([9,13])\n",
    "\n",
    "init_g = tf.global_variables_initializer()\n",
    "init_l = tf.local_variables_initializer()\n",
    "with tf.Session() as sess:\n",
    "    sess.run(init_g)\n",
    "    sess.run(init_l)\n",
    "    k=q.eval()\n",
    "    print(k)\n",
    "    k=w.eval()\n",
    "    print(k)\n",
    "    k=p.eval()\n",
    "    print(k)\n",
    "    k=r.eval()\n",
    "    print(k)\n",
    "    k=g.eval()\n",
    "    print(k)\n",
    "\n",
    "\n"
   ]
  },
  {
   "cell_type": "code",
   "execution_count": 82,
   "metadata": {
    "id": "xqtf1oBaPmyf"
   },
   "outputs": [],
   "source": [
    "W=tf.Variable([.3],dtype=tf.float32)"
   ]
  },
  {
   "cell_type": "code",
   "execution_count": 83,
   "metadata": {
    "id": "AY4AJo37PyOy"
   },
   "outputs": [],
   "source": [
    "b=tf.Variable([-.3],dtype=tf.float32)\n",
    "x=tf.Variable([1,2,3],dtype=tf.float32)"
   ]
  },
  {
   "cell_type": "code",
   "execution_count": 115,
   "metadata": {
    "colab": {
     "base_uri": "https://localhost:8080/"
    },
    "id": "ProqFvyuUsfx",
    "outputId": "9f620e37-b906-4021-9fd6-57b9c6dbd5a2"
   },
   "outputs": [
    {
     "name": "stdout",
     "output_type": "stream",
     "text": [
      "[0.  0.3 0.6]\n"
     ]
    }
   ],
   "source": [
    "model=W*x+b\n",
    "init_g = tf.global_variables_initializer()\n",
    "init_l = tf.local_variables_initializer()\n",
    "with tf.Session() as sess:\n",
    "    sess.run(init_g)\n",
    "    sess.run(init_l)\n",
    "    result = sess.run(model) \n",
    "    print(result)"
   ]
  },
  {
   "cell_type": "code",
   "execution_count": 116,
   "metadata": {
    "id": "7xgdMuQCWeo4"
   },
   "outputs": [],
   "source": [
    "x = tf.placeholder(dtype = tf.float32)\n",
    "y = tf.placeholder(dtype = tf.float32)\n",
    "\n",
    "g = x * y + tf.log(x + y) + x ** 2"
   ]
  },
  {
   "cell_type": "code",
   "execution_count": 117,
   "metadata": {
    "colab": {
     "base_uri": "https://localhost:8080/"
    },
    "id": "L0yykTRQWzuA",
    "outputId": "3c3a22de-760a-46cb-fe6a-6751b23b87ca"
   },
   "outputs": [
    {
     "name": "stdout",
     "output_type": "stream",
     "text": [
      "X: [ 1.  2.  3.  4.  5.  6.  7.  8.  9. 10.]\n",
      "Y: [ 1.  2.  3.  4.  5.  6.  7.  8.  9. 10.]\n",
      "Result: [  2.6931472   9.386294   19.79176    34.07944    52.302586   74.48491\n",
      " 100.63905   130.77258   164.89038   202.99573  ]\n"
     ]
    }
   ],
   "source": [
    "with tf.Session() as sess:\n",
    "  x_feed = np.linspace(1, 10, num=10)\n",
    "  y_feed = np.linspace(1, 10, num=10)\n",
    "  result = sess.run(g, feed_dict = {x: x_feed, y: y_feed})\n",
    "  \n",
    "  \n",
    "  print(\"X: \" + str(x_feed))\n",
    "  print(\"Y: \" + str(y_feed))\n",
    "  print(\"Result: \" + str(result))\n"
   ]
  },
  {
   "cell_type": "code",
   "execution_count": 119,
   "metadata": {
    "colab": {
     "base_uri": "https://localhost:8080/"
    },
    "id": "fyb1X5ioW210",
    "outputId": "654da4be-3da4-4058-c8cf-b17be5f474a0"
   },
   "outputs": [
    {
     "name": "stdout",
     "output_type": "stream",
     "text": [
      "X: [ 1.  2.  3.  4.  5.  6.  7.  8.  9. 10.]\n",
      "Result: [[0.         0.3        0.6        0.90000004 1.2        1.5\n",
      "  1.8000002  2.1000001  2.4        2.7       ]]\n"
     ]
    }
   ],
   "source": [
    "g = [W * x] + b\n",
    "\n",
    "with tf.Session() as sess:\n",
    "    sess.run(init_g)\n",
    "    sess.run(init_l)\n",
    "    x_feed = np.linspace(1, 10, num=10)\n",
    "    result = sess.run(g, feed_dict = {x: x_feed})\n",
    "  \n",
    "  \n",
    "    print(\"X: \" + str(x_feed))\n",
    "    print(\"Result: \" + str(result))\n"
   ]
  },
  {
   "cell_type": "code",
   "execution_count": null,
   "metadata": {
    "id": "D2in4hcgZsIh"
   },
   "outputs": [],
   "source": []
  }
 ],
 "metadata": {
  "colab": {
   "name": "tensor flow",
   "provenance": []
  },
  "kernelspec": {
   "display_name": "Python 3 (ipykernel)",
   "language": "python",
   "name": "python3"
  },
  "language_info": {
   "codemirror_mode": {
    "name": "ipython",
    "version": 3
   },
   "file_extension": ".py",
   "mimetype": "text/x-python",
   "name": "python",
   "nbconvert_exporter": "python",
   "pygments_lexer": "ipython3",
   "version": "3.8.8"
  }
 },
 "nbformat": 4,
 "nbformat_minor": 1
}
